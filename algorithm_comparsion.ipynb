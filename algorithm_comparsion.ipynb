{
  "nbformat": 4,
  "nbformat_minor": 0,
  "metadata": {
    "colab": {
      "name": "algorithm_comparsion.ipynb",
      "provenance": [],
      "collapsed_sections": [],
      "authorship_tag": "ABX9TyMXpJMamAvng166aMcQUVC4",
      "include_colab_link": true
    },
    "kernelspec": {
      "name": "python3",
      "display_name": "Python 3"
    }
  },
  "cells": [
    {
      "cell_type": "markdown",
      "metadata": {
        "id": "view-in-github",
        "colab_type": "text"
      },
      "source": [
        "<a href=\"https://colab.research.google.com/github/peter000815/BA0815/blob/master/algorithm_comparsion.ipynb\" target=\"_parent\"><img src=\"https://colab.research.google.com/assets/colab-badge.svg\" alt=\"Open In Colab\"/></a>"
      ]
    },
    {
      "cell_type": "markdown",
      "metadata": {
        "id": "jjsMLopQKdbH",
        "colab_type": "text"
      },
      "source": [
        "Get the information of Heimingway's living place"
      ]
    },
    {
      "cell_type": "code",
      "metadata": {
        "id": "g7db_3TZMovi",
        "colab_type": "code",
        "colab": {}
      },
      "source": [
        "from geopy.geocoders import Nominatim"
      ],
      "execution_count": null,
      "outputs": []
    },
    {
      "cell_type": "code",
      "metadata": {
        "id": "7T4KRLUFQL1S",
        "colab_type": "code",
        "colab": {}
      },
      "source": [
        "url = \"https://www.nytimes.com/2015/10/04/travel/places-where-hemingway-lived-or-traveled.html\"\n",
        "location_list = [\"Oak Park, Illinois, USA\", \"Horton Bay, Michigan, USA\", \n",
        "                 \"Paris, France\", \"Pamplona, Spain\", \"Madrid, Spain\", \n",
        "                 \"Havana, Cuba\", \"Key West, Florida, USA\", \"Ketchum, Idaho\"]"
      ],
      "execution_count": null,
      "outputs": []
    },
    {
      "cell_type": "code",
      "metadata": {
        "id": "XuzRcorFQMh-",
        "colab_type": "code",
        "colab": {
          "base_uri": "https://localhost:8080/",
          "height": 297
        },
        "outputId": "bd4c8ef5-6e02-4dbf-90cc-39c919204cde"
      },
      "source": [
        "import pandas as pd\n",
        "locator = Nominatim(user_agent=\"myGeocoder\")\n",
        "df = pd.DataFrame(location_list, columns = ['location'])\n",
        "df[\"latitude\"] = df.location.apply(lambda x: locator.geocode(x).latitude)\n",
        "df[\"longitude\"] = df.location.apply(lambda x: locator.geocode(x).longitude)\n",
        "df"
      ],
      "execution_count": null,
      "outputs": [
        {
          "output_type": "execute_result",
          "data": {
            "text/html": [
              "<div>\n",
              "<style scoped>\n",
              "    .dataframe tbody tr th:only-of-type {\n",
              "        vertical-align: middle;\n",
              "    }\n",
              "\n",
              "    .dataframe tbody tr th {\n",
              "        vertical-align: top;\n",
              "    }\n",
              "\n",
              "    .dataframe thead th {\n",
              "        text-align: right;\n",
              "    }\n",
              "</style>\n",
              "<table border=\"1\" class=\"dataframe\">\n",
              "  <thead>\n",
              "    <tr style=\"text-align: right;\">\n",
              "      <th></th>\n",
              "      <th>location</th>\n",
              "      <th>latitude</th>\n",
              "      <th>longitude</th>\n",
              "    </tr>\n",
              "  </thead>\n",
              "  <tbody>\n",
              "    <tr>\n",
              "      <th>0</th>\n",
              "      <td>Oak Park, Illinois, USA</td>\n",
              "      <td>41.887814</td>\n",
              "      <td>-87.788762</td>\n",
              "    </tr>\n",
              "    <tr>\n",
              "      <th>1</th>\n",
              "      <td>Horton Bay, Michigan, USA</td>\n",
              "      <td>45.284453</td>\n",
              "      <td>-85.078946</td>\n",
              "    </tr>\n",
              "    <tr>\n",
              "      <th>2</th>\n",
              "      <td>Paris, France</td>\n",
              "      <td>48.856697</td>\n",
              "      <td>2.351462</td>\n",
              "    </tr>\n",
              "    <tr>\n",
              "      <th>3</th>\n",
              "      <td>Pamplona, Spain</td>\n",
              "      <td>42.818454</td>\n",
              "      <td>-1.644256</td>\n",
              "    </tr>\n",
              "    <tr>\n",
              "      <th>4</th>\n",
              "      <td>Madrid, Spain</td>\n",
              "      <td>40.416705</td>\n",
              "      <td>-3.703582</td>\n",
              "    </tr>\n",
              "    <tr>\n",
              "      <th>5</th>\n",
              "      <td>Havana, Cuba</td>\n",
              "      <td>23.135305</td>\n",
              "      <td>-82.358963</td>\n",
              "    </tr>\n",
              "    <tr>\n",
              "      <th>6</th>\n",
              "      <td>Key West, Florida, USA</td>\n",
              "      <td>24.562557</td>\n",
              "      <td>-81.772437</td>\n",
              "    </tr>\n",
              "    <tr>\n",
              "      <th>7</th>\n",
              "      <td>Ketchum, Idaho</td>\n",
              "      <td>43.680741</td>\n",
              "      <td>-114.363662</td>\n",
              "    </tr>\n",
              "  </tbody>\n",
              "</table>\n",
              "</div>"
            ],
            "text/plain": [
              "                    location   latitude   longitude\n",
              "0    Oak Park, Illinois, USA  41.887814  -87.788762\n",
              "1  Horton Bay, Michigan, USA  45.284453  -85.078946\n",
              "2              Paris, France  48.856697    2.351462\n",
              "3            Pamplona, Spain  42.818454   -1.644256\n",
              "4              Madrid, Spain  40.416705   -3.703582\n",
              "5               Havana, Cuba  23.135305  -82.358963\n",
              "6     Key West, Florida, USA  24.562557  -81.772437\n",
              "7             Ketchum, Idaho  43.680741 -114.363662"
            ]
          },
          "metadata": {
            "tags": []
          },
          "execution_count": 3
        }
      ]
    },
    {
      "cell_type": "code",
      "metadata": {
        "id": "WEwIluEIQrkH",
        "colab_type": "code",
        "colab": {}
      },
      "source": [
        "! pip install geopandas"
      ],
      "execution_count": null,
      "outputs": []
    },
    {
      "cell_type": "code",
      "metadata": {
        "id": "9QB3Q7O7QQFA",
        "colab_type": "code",
        "colab": {}
      },
      "source": [
        "import geopandas\n",
        "gdf = geopandas.GeoDataFrame(df, geometry=geopandas.points_from_xy(df.longitude, df.latitude))"
      ],
      "execution_count": null,
      "outputs": []
    },
    {
      "cell_type": "code",
      "metadata": {
        "id": "fiA2aFASQSLb",
        "colab_type": "code",
        "colab": {}
      },
      "source": [
        "import matplotlib.pyplot as plt\n",
        "world = geopandas.read_file(geopandas.datasets.get_path('naturalearth_lowres'))\n",
        "ax = world.plot(color='white', edgecolor='black', figsize=(20, 15))\n",
        "gdf.plot(ax=ax, color='red')\n",
        "plt.show()"
      ],
      "execution_count": null,
      "outputs": []
    },
    {
      "cell_type": "code",
      "metadata": {
        "id": "YA41si1UQWlK",
        "colab_type": "code",
        "colab": {
          "base_uri": "https://localhost:8080/",
          "height": 285
        },
        "outputId": "bf98fbb3-4998-471f-fdf8-4f132ce8a990"
      },
      "source": [
        "import matplotlib.pyplot as plt\n",
        "plt.scatter(df[\"longitude\"], df[\"latitude\"])"
      ],
      "execution_count": null,
      "outputs": [
        {
          "output_type": "execute_result",
          "data": {
            "text/plain": [
              "<matplotlib.collections.PathCollection at 0x7fafbec086a0>"
            ]
          },
          "metadata": {
            "tags": []
          },
          "execution_count": 8
        },
        {
          "output_type": "display_data",
          "data": {
            "image/png": "[encoded data removed]",
            "text/plain": [
              "<Figure size 432x288 with 1 Axes>"
            ]
          },
          "metadata": {
            "tags": [],
            "needs_background": "light"
          }
        }
      ]
    },
    {
      "cell_type": "code",
      "metadata": {
        "id": "T-GBqibVtvR_",
        "colab_type": "code",
        "colab": {}
      },
      "source": [
        "array = np.array([(-87.7887615,  41.8878145),(-85.0789462,  45.2844529),(2.3514616, 48.8566969),(-1.6442556, 42.8184538),(-3.7035825, 40.4167047),(-82.3589631,  23.135305),(-81.7724368,  24.5625566),(-114.363662,   43.680741)])"
      ],
      "execution_count": null,
      "outputs": []
    },
    {
      "cell_type": "markdown",
      "metadata": {
        "id": "o6Wp4KyTKzHN",
        "colab_type": "text"
      },
      "source": [
        "Dynamic Programming"
      ]
    },
    {
      "cell_type": "code",
      "metadata": {
        "id": "au4OxS_zVG-h",
        "colab_type": "code",
        "colab": {}
      },
      "source": [
        "import time\n",
        "import numpy as np\n",
        "\n",
        "import matplotlib.pyplot as plt\n",
        "%matplotlib inline"
      ],
      "execution_count": null,
      "outputs": []
    },
    {
      "cell_type": "code",
      "metadata": {
        "id": "EPcFGI8PqTaQ",
        "colab_type": "code",
        "colab": {}
      },
      "source": [
        "def DP_TSP(distances_array):\n",
        "    n = len(distances_array)\n",
        "    all_points_set = set(range(n))\n",
        "    memo = {(tuple([i]), i): tuple([0, None]) for i in range(n)}\n",
        "    queue = [(tuple([i]), i) for i in range(n)]\n",
        "\n",
        "    while queue:\n",
        "        prev_visited, prev_last_point = queue.pop(0)\n",
        "        prev_dist, _ = memo[(prev_visited, prev_last_point)]\n",
        "\n",
        "        to_visit = all_points_set.difference(set(prev_visited))\n",
        "        for new_last_point in to_visit:\n",
        "            new_visited = tuple(sorted(list(prev_visited) + [new_last_point]))\n",
        "            new_dist = prev_dist + distances_array[prev_last_point][new_last_point]\n",
        "\n",
        "            if (new_visited, new_last_point) not in memo:\n",
        "                memo[(new_visited, new_last_point)] = (new_dist, prev_last_point)\n",
        "                queue += [(new_visited, new_last_point)]\n",
        "            else:\n",
        "                if new_dist < memo[(new_visited, new_last_point)][0]:\n",
        "                    memo[(new_visited, new_last_point)] = (new_dist, prev_last_point)\n",
        "\n",
        "    optimal_path, optimal_cost = retrace_optimal_path(memo, n)\n",
        "\n",
        "    return optimal_path, optimal_cost\n"
      ],
      "execution_count": null,
      "outputs": []
    },
    {
      "cell_type": "code",
      "metadata": {
        "id": "SlYtETpc1990",
        "colab_type": "code",
        "colab": {}
      },
      "source": [
        "def retrace_optimal_path(memo: dict, n: int) -> [[int], float]:\n",
        "    points_to_retrace = tuple(range(n))\n",
        "\n",
        "    full_path_memo = dict((k, v) for k, v in memo.items() if k[0] == points_to_retrace)\n",
        "    path_key = min(full_path_memo.keys(), key=lambda x: full_path_memo[x][0])\n",
        "\n",
        "    last_point = path_key[1]\n",
        "    optimal_cost, next_to_last_point = memo[path_key]\n",
        "\n",
        "    optimal_path = [last_point]\n",
        "    points_to_retrace = tuple(sorted(set(points_to_retrace).difference({last_point})))\n",
        "\n",
        "    while next_to_last_point is not None:\n",
        "        last_point = next_to_last_point\n",
        "        path_key = (points_to_retrace, last_point)\n",
        "        _, next_to_last_point = memo[path_key]\n",
        "\n",
        "        optimal_path = [last_point] + optimal_path\n",
        "        points_to_retrace = tuple(sorted(set(points_to_retrace).difference({last_point})))\n",
        "\n",
        "    return optimal_path, optimal_cost"
      ],
      "execution_count": null,
      "outputs": []
    },
    {
      "cell_type": "code",
      "metadata": {
        "id": "s7MVJRyZ3Z6R",
        "colab_type": "code",
        "colab": {}
      },
      "source": [
        "def plot_route(X, optimal_path):\n",
        "    for p1, p2 in zip(optimal_path[:-1], optimal_path[1:]):\n",
        "        plt.plot([X[p1, 0], X[p2, 0]], [X[p1, 1], X[p2, 1]]);"
      ],
      "execution_count": null,
      "outputs": []
    },
    {
      "cell_type": "code",
      "metadata": {
        "id": "ClZcXLG23a20",
        "colab_type": "code",
        "colab": {}
      },
      "source": [
        "def generate_input(ar_name):\n",
        "    X = ar_name\n",
        "    distances_array = np.array([[np.linalg.norm(X[i] - X[j])\n",
        "                                for i in range(ar_name.shape[0])]\n",
        "                              for j in range(ar_name.shape[0])])\n",
        "    return X, distances_array"
      ],
      "execution_count": null,
      "outputs": []
    },
    {
      "cell_type": "code",
      "metadata": {
        "id": "mlbNrvF03dY5",
        "colab_type": "code",
        "colab": {
          "base_uri": "https://localhost:8080/",
          "height": 53
        },
        "outputId": "b4527bab-0a09-4dac-dcfb-2126ae9e72e2"
      },
      "source": [
        "ar_name = array\n",
        "X, distances_array = generate_input(ar_name)\n",
        "\n",
        "t = time.time()\n",
        "optimal_path, optimal_cost = DP_TSP(distances_array)\n",
        "runtime = round(time.time() - t, 4)\n",
        "\n",
        "print(f\"Found optimal path in {runtime} seconds.\") \n",
        "print(f\"Optimal cost: {round(optimal_cost, 3)}, optimal path: {optimal_path}\")"
      ],
      "execution_count": null,
      "outputs": [
        {
          "output_type": "stream",
          "text": [
            "Found optimal path in 0.0081 seconds.\n",
            "Optimal cost: 144.443, optimal path: [2, 3, 4, 5, 6, 1, 0, 7]\n"
          ],
          "name": "stdout"
        }
      ]
    },
    {
      "cell_type": "code",
      "metadata": {
        "id": "xzs2Hnb3AfbZ",
        "colab_type": "code",
        "colab": {
          "base_uri": "https://localhost:8080/",
          "height": 369
        },
        "outputId": "06d06da0-cf42-4059-f546-95515ff2d9fa"
      },
      "source": [
        "plt.figure(figsize=(10, 5));\n",
        "\n",
        "plt.subplot(1, 2, 1);\n",
        "plt.scatter(X[:, 0], X[:, 1]);\n",
        "\n",
        "plt.subplot(1, 2, 2);\n",
        "plot_route(X, optimal_path)\n",
        "\n",
        "plt.tight_layout();"
      ],
      "execution_count": null,
      "outputs": [
        {
          "output_type": "display_data",
          "data": {
            "image/png": "[encoded data removed]",
            "text/plain": [
              "<Figure size 720x360 with 2 Axes>"
            ]
          },
          "metadata": {
            "tags": [],
            "needs_background": "light"
          }
        }
      ]
    },
    {
      "cell_type": "markdown",
      "metadata": {
        "id": "eEQvGb55LKof",
        "colab_type": "text"
      },
      "source": [
        "Heuristic Solution"
      ]
    },
    {
      "cell_type": "code",
      "metadata": {
        "id": "NQRz4t0pB9Js",
        "colab_type": "code",
        "colab": {}
      },
      "source": [
        "import math\n",
        "import random\n",
        "random.seed(42)\n",
        "\n",
        "class YATS:\n",
        "    def __init__(self, n_iter: int = 100):\n",
        "        self.n_iter = n_iter\n",
        "        \n",
        "    def get_best_route(self, points: np.array, distances_array: np.array) -> [[int], float]:\n",
        "        optimal_path = self._get_angular_route(points)\n",
        "        optimal_path = self._optimize_route(distances_array, optimal_path)\n",
        "        optimal_cost = self._get_route_len(distances_array, optimal_path)\n",
        "        return optimal_path, optimal_cost\n",
        "    \n",
        "    def _get_angular_route(self, points: np.array) -> [int]:\n",
        "        center = np.mean(points, axis=0)\n",
        "        route_idxs = sorted(list(range(len(points))),\n",
        "                            key=lambda i:\n",
        "                            self._get_angle_from_reference_point_in_deg(center, points[i, :]),\n",
        "                            reverse=True)\n",
        "        return route_idxs\n",
        "\n",
        "    def _get_angle_from_reference_point_in_deg(self, reference_point: np.array, other_point: np.array) -> float:\n",
        "        x, y = other_point - reference_point\n",
        "        angle_from_reference_in_deg = math.degrees(math.atan2(y, x))\n",
        "        return angle_from_reference_in_deg\n",
        "    \n",
        "    def _optimize_route(self, distances_array: np.array, route_idxs: [int]) -> [int]:\n",
        "        prev_cost = self._get_route_len(distances_array, route_idxs)\n",
        "\n",
        "        all_idxs = list(range(len(route_idxs)))\n",
        "        for _ in range(self.n_iter):\n",
        "            i1, i2 = random.sample(all_idxs, 2)\n",
        "            route_idxs[i2], route_idxs[i1] = route_idxs[i1], route_idxs[i2]\n",
        "            new_cost = self._get_route_len(distances_array, route_idxs)\n",
        "            if new_cost < prev_cost:\n",
        "                prev_cost = new_cost\n",
        "            else:\n",
        "                route_idxs[i2], route_idxs[i1] = route_idxs[i1], route_idxs[i2]\n",
        "        return route_idxs\n",
        "\n",
        "    def _get_route_len(self, distances_array: np.array, route_idxs: [int]):\n",
        "        route_len = sum([distances_array[i1][i2]\n",
        "                         for i1, i2 in zip(route_idxs[:-1], route_idxs[1:])])\n",
        "        return route_len"
      ],
      "execution_count": null,
      "outputs": []
    },
    {
      "cell_type": "code",
      "metadata": {
        "id": "GycnkQZeCFTQ",
        "colab_type": "code",
        "colab": {
          "base_uri": "https://localhost:8080/",
          "height": 53
        },
        "outputId": "efd556c1-f303-4219-d296-e0acf9c42f75"
      },
      "source": [
        "yats = YATS()\n",
        "t_yats = time.time()\n",
        "optimal_path_yats, optimal_cost_yats = yats.get_best_route(X, distances_array)\n",
        "runtime_yats = round(time.time() - t_yats,4)\n",
        "\n",
        "print(f\"Found heuristic path in {runtime_yats} seconds.\") \n",
        "print(f\"Heuristic cost: {round(optimal_cost_yats, 3)}, heuristic optimal path: {optimal_path_yats}\")"
      ],
      "execution_count": null,
      "outputs": [
        {
          "output_type": "stream",
          "text": [
            "Found heuristic path in 0.0019 seconds.\n",
            "Heuristic cost: 210.094, heuristic optimal path: [7, 0, 1, 2, 3, 4, 6, 5]\n"
          ],
          "name": "stdout"
        }
      ]
    },
    {
      "cell_type": "markdown",
      "metadata": {
        "id": "RLbEb045LVPz",
        "colab_type": "text"
      },
      "source": [
        "Greedy Algorithm"
      ]
    },
    {
      "cell_type": "code",
      "metadata": {
        "id": "AKGNwyJSD6Ea",
        "colab_type": "code",
        "colab": {}
      },
      "source": [
        "import numpy as np\n",
        "\n",
        "def algorithm(cities):\n",
        "\tbest_order = []\n",
        "\tbest_length = float('inf')\n",
        "\n",
        "\tfor i_start, start in enumerate(cities):\n",
        "\t\torder = [i_start]\n",
        "\t\tlength = 0\n",
        "    ### complete the get_closest function\n",
        "\t\ti_next, next, dist =   get_closest(start, cities, order)\n",
        "\t\tlength += dist\n",
        "\t\torder.append(i_next)\n",
        "\n",
        "\t\twhile len(order) < cities.shape[0]:\n",
        "\t\t\ti_next, next, dist = get_closest(next, cities, order)\n",
        "\t\t\tlength += dist\n",
        "\t\t\torder.append(i_next)\n",
        "\n",
        "\t\t#print(order)\n",
        "\n",
        "\t\tif length < best_length:\n",
        "\t\t\tbest_length = length\n",
        "\t\t\tbest_order = order\n",
        "\treturn best_order, best_length \n",
        "\n",
        "def get_closest(city, cities, visited):\n",
        "\tbest_distance = float('inf')\n",
        "\n",
        "\tfor i, c in enumerate(cities):\n",
        "\n",
        "\t\tif i not in visited:\n",
        "\t\t\tdistance = dist_squared(city, c)**0.5\n",
        "\n",
        "\t\t\tif distance < best_distance:\n",
        "\t\t\t\tclosest_city = c\n",
        "\t\t\t\ti_closest_city = i\n",
        "\t\t\t\tbest_distance = distance\n",
        "\n",
        "\treturn i_closest_city, closest_city, best_distance\n",
        "\n",
        "\n",
        "def dist_squared(c1, c2):\n",
        "\tt1 = c2[0] - c1[0]\n",
        "\tt2 = c2[1] - c1[1]\n",
        "\n",
        "\treturn t1**2 + t2**2\n"
      ],
      "execution_count": null,
      "outputs": []
    },
    {
      "cell_type": "code",
      "metadata": {
        "id": "GIPWqR4mFgxK",
        "colab_type": "code",
        "colab": {
          "base_uri": "https://localhost:8080/",
          "height": 53
        },
        "outputId": "0b3740a9-f7d9-4bb1-f4ee-ee6484c6236b"
      },
      "source": [
        "GA_time = time.time()\n",
        "optimal_path_GA, optimal_cost_GA = algorithm(array)\n",
        "runtime_GA = round(time.time() - GA_time, 4)\n",
        "\n",
        "print(f\"Found GA path in {runtime_GA} seconds.\") \n",
        "print(f\"GA cost: {round(optimal_cost_GA, 3)}, GA optimal path: {optimal_path_GA}\")"
      ],
      "execution_count": null,
      "outputs": [
        {
          "output_type": "stream",
          "text": [
            "Found GA path in 0.0009 seconds.\n",
            "GA cost: 144.443, GA optimal path: [7, 0, 1, 6, 5, 4, 3, 2]\n"
          ],
          "name": "stdout"
        }
      ]
    },
    {
      "cell_type": "code",
      "metadata": {
        "id": "j9tSaRJ2Cc6t",
        "colab_type": "code",
        "colab": {
          "base_uri": "https://localhost:8080/",
          "height": 349
        },
        "outputId": "8c9d3224-0a42-4809-a6db-c4de00128c58"
      },
      "source": [
        "plt.figure(figsize=(15, 5));\n",
        "\n",
        "plt.subplot(1, 3, 1);\n",
        "plot_route(X, optimal_path)\n",
        "plt.title(f\"Dynamic Programming, cost = {round(optimal_cost, 3)}, runtime = {runtime}\")\n",
        "\n",
        "plt.subplot(1, 3, 2);\n",
        "plot_route(X, optimal_path_yats)\n",
        "plt.title(f\"Heuristic solution, cost = {round(optimal_cost_yats, 3)}, runtime = {runtime_yats}\")\n",
        "\n",
        "plt.subplot(1,3,3)\n",
        "plot_route(X , optimal_path_GA)\n",
        "plt.title(f\"Greedy Algorithm, cost = {round(optimal_cost_GA, 3)}, runtime = {runtime_GA}\")\n",
        "\n",
        "plt.tight_layout();"
      ],
      "execution_count": null,
      "outputs": [
        {
          "output_type": "display_data",
          "data": {
            "image/png": "[encoded data removed]",
            "text/plain": [
              "<Figure size 1080x360 with 3 Axes>"
            ]
          },
          "metadata": {
            "tags": [],
            "needs_background": "light"
          }
        }
      ]
    },
    {
      "cell_type": "code",
      "metadata": {
        "id": "WntOTeb-LpMr",
        "colab_type": "code",
        "colab": {
          "base_uri": "https://localhost:8080/",
          "height": 369
        },
        "outputId": "f76c2200-6d0b-4ba0-9831-3918644a68dc"
      },
      "source": [
        "plt.figure(figsize=(15, 5));\n",
        "plt.subplot(1, 3, 1);\n",
        "random_path = list(range(len(X)))\n",
        "random_cost = yats._get_route_len(distances_array, random_path)\n",
        "plot_route(X, random_path)\n",
        "plt.title(f\"Random solution, cost = {round(random_cost, 3)}\")\n",
        "\n",
        "plt.tight_layout();"
      ],
      "execution_count": null,
      "outputs": [
        {
          "output_type": "display_data",
          "data": {
            "image/png": "[encoded data removed]",
            "text/plain": [
              "<Figure size 1080x360 with 1 Axes>"
            ]
          },
          "metadata": {
            "tags": [],
            "needs_background": "light"
          }
        }
      ]
    }
  ]
}