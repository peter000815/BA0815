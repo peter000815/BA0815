{
  "nbformat": 4,
  "nbformat_minor": 0,
  "metadata": {
    "colab": {
      "name": "Untitled13.ipynb",
      "provenance": [],
      "authorship_tag": "ABX9TyPHrdUo8GqqJP808IjWDv0U",
      "include_colab_link": true
    },
    "kernelspec": {
      "name": "python3",
      "display_name": "Python 3"
    }
  },
  "cells": [
    {
      "cell_type": "markdown",
      "metadata": {
        "id": "view-in-github",
        "colab_type": "text"
      },
      "source": [
        "<a href=\"https://colab.research.google.com/github/peter000815/BA0815/blob/master/DP_final.ipynb\" target=\"_parent\"><img src=\"https://colab.research.google.com/assets/colab-badge.svg\" alt=\"Open In Colab\"/></a>"
      ]
    },
    {
      "cell_type": "code",
      "metadata": {
        "id": "aDipeoZB4lkw",
        "colab_type": "code",
        "colab": {}
      },
      "source": [
        "import numpy as np\n",
        "array = np.array([(13.450126,144.757551),(19.587268,-155.426890),(38.760481,-92.561787),(47.375267,-109.638758),(47.620146,-100.540737),(34.955082,-97.268406),(44.647176,-100.348761),(38.475841,-80.840841),(44.430898,-89.688464),(43.170026,-107.568535)])"
      ],
      "execution_count": 1,
      "outputs": []
    },
    {
      "cell_type": "code",
      "metadata": {
        "id": "6wYSn-Pd6NVB",
        "colab_type": "code",
        "colab": {}
      },
      "source": [
        "import time\n",
        "import numpy as np\n",
        "\n",
        "import matplotlib.pyplot as plt\n",
        "%matplotlib inline"
      ],
      "execution_count": 2,
      "outputs": []
    },
    {
      "cell_type": "code",
      "metadata": {
        "id": "Dc_l9XRg6QUn",
        "colab_type": "code",
        "colab": {}
      },
      "source": [
        "def DP_TSP(distances_array):\n",
        "    n = len(distances_array)\n",
        "    all_points_set = set(range(n))\n",
        "    memo = {(tuple([i]), i): tuple([0, None]) for i in range(n)}\n",
        "    queue = [(tuple([i]), i) for i in range(n)]\n",
        "\n",
        "    while queue:\n",
        "        prev_visited, prev_last_point = queue.pop(0)\n",
        "        prev_dist, _ = memo[(prev_visited, prev_last_point)]\n",
        "\n",
        "        to_visit = all_points_set.difference(set(prev_visited))\n",
        "        for new_last_point in to_visit:\n",
        "            new_visited = tuple(sorted(list(prev_visited) + [new_last_point]))\n",
        "            new_dist = prev_dist + distances_array[prev_last_point][new_last_point]\n",
        "\n",
        "            if (new_visited, new_last_point) not in memo:\n",
        "                memo[(new_visited, new_last_point)] = (new_dist, prev_last_point)\n",
        "                queue += [(new_visited, new_last_point)]\n",
        "            else:\n",
        "                if new_dist < memo[(new_visited, new_last_point)][0]:\n",
        "                    memo[(new_visited, new_last_point)] = (new_dist, prev_last_point)\n",
        "\n",
        "    optimal_path, optimal_cost = retrace_optimal_path(memo, n)\n",
        "\n",
        "    return optimal_path, optimal_cost"
      ],
      "execution_count": 3,
      "outputs": []
    },
    {
      "cell_type": "code",
      "metadata": {
        "id": "rNxw1vig6Srh",
        "colab_type": "code",
        "colab": {}
      },
      "source": [
        "def retrace_optimal_path(memo: dict, n: int) -> [[int], float]:\n",
        "    points_to_retrace = tuple(range(n))\n",
        "\n",
        "    full_path_memo = dict((k, v) for k, v in memo.items() if k[0] == points_to_retrace)\n",
        "    path_key = min(full_path_memo.keys(), key=lambda x: full_path_memo[x][0])\n",
        "\n",
        "    last_point = path_key[1]\n",
        "    optimal_cost, next_to_last_point = memo[path_key]\n",
        "\n",
        "    optimal_path = [last_point]\n",
        "    points_to_retrace = tuple(sorted(set(points_to_retrace).difference({last_point})))\n",
        "\n",
        "    while next_to_last_point is not None:\n",
        "        last_point = next_to_last_point\n",
        "        path_key = (points_to_retrace, last_point)\n",
        "        _, next_to_last_point = memo[path_key]\n",
        "\n",
        "        optimal_path = [last_point] + optimal_path\n",
        "        points_to_retrace = tuple(sorted(set(points_to_retrace).difference({last_point})))\n",
        "\n",
        "    return optimal_path, optimal_cost"
      ],
      "execution_count": 4,
      "outputs": []
    },
    {
      "cell_type": "code",
      "metadata": {
        "id": "8TZ3WaGe6U1O",
        "colab_type": "code",
        "colab": {}
      },
      "source": [
        "\n",
        "def plot_route(X, optimal_path):\n",
        "    for p1, p2 in zip(optimal_path[:-1], optimal_path[1:]):\n",
        "        plt.plot([X[p1, 0], X[p2, 0]], [X[p1, 1], X[p2, 1]]);"
      ],
      "execution_count": 5,
      "outputs": []
    },
    {
      "cell_type": "code",
      "metadata": {
        "id": "iXCsziSy6WdN",
        "colab_type": "code",
        "colab": {}
      },
      "source": [
        "def generate_input(ar_name):\n",
        "    X = ar_name\n",
        "    distances_array = np.array([[np.linalg.norm(X[i] - X[j])\n",
        "                                for i in range(ar_name.shape[0])]\n",
        "                              for j in range(ar_name.shape[0])])\n",
        "    return X, distances_array"
      ],
      "execution_count": 6,
      "outputs": []
    },
    {
      "cell_type": "code",
      "metadata": {
        "id": "qnlRDses6Y0K",
        "colab_type": "code",
        "colab": {
          "base_uri": "https://localhost:8080/",
          "height": 51
        },
        "outputId": "b0c66d74-8bec-4c8c-c4c9-348bddb02dbf"
      },
      "source": [
        "ar_name = array\n",
        "X, distances_array = generate_input(ar_name)\n",
        "\n",
        "t = time.time()\n",
        "optimal_path, optimal_cost = DP_TSP(distances_array)\n",
        "runtime = round(time.time() - t, 4)\n",
        "\n",
        "print(f\"Found optimal path in {runtime} seconds.\") \n",
        "print(f\"Optimal cost: {round(optimal_cost, 3)}, optimal path: {optimal_path}\")"
      ],
      "execution_count": 7,
      "outputs": [
        {
          "output_type": "stream",
          "text": [
            "Found optimal path in 0.0611 seconds.\n",
            "Optimal cost: 329.772, optimal path: [0, 7, 8, 2, 5, 6, 4, 9, 3, 1]\n"
          ],
          "name": "stdout"
        }
      ]
    },
    {
      "cell_type": "code",
      "metadata": {
        "id": "f-ecpzWq6bNv",
        "colab_type": "code",
        "colab": {
          "base_uri": "https://localhost:8080/",
          "height": 369
        },
        "outputId": "a2534e9b-9e1a-49cc-ac47-400c42e190e0"
      },
      "source": [
        "plt.figure(figsize=(10, 5));\n",
        "\n",
        "plot_route(X, optimal_path)\n",
        "\n",
        "plt.tight_layout();"
      ],
      "execution_count": 9,
      "outputs": [
        {
          "output_type": "display_data",
          "data": {
            "image/png": "[encoded data removed]",
            "text/plain": [
              "<Figure size 720x360 with 1 Axes>"
            ]
          },
          "metadata": {
            "tags": [],
            "needs_background": "light"
          }
        }
      ]
    }
  ]
}